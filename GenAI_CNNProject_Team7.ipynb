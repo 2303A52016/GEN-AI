{
  "cells": [
    {
      "cell_type": "markdown",
      "metadata": {
        "id": "ZLMyYmosihBh"
      },
      "source": [
        "#**Importing tensorflow package**"
      ]
    },
    {
      "cell_type": "code",
      "execution_count": null,
      "metadata": {
        "id": "NjzH-eqWH0Q2"
      },
      "outputs": [],
      "source": [
        "import tensorflow as tf"
      ]
    },
    {
      "cell_type": "code",
      "execution_count": null,
      "metadata": {
        "id": "c5Sxi74wJomY"
      },
      "outputs": [],
      "source": [
        "from tensorflow.keras.preprocessing.image import ImageDataGenerator"
      ]
    },
    {
      "cell_type": "markdown",
      "metadata": {
        "id": "6fJct3cqio5e"
      },
      "source": [
        "\n",
        "\n",
        "\n",
        "\n",
        "\n",
        "\n",
        "\n",
        "\n",
        "\n",
        "\n",
        "\n",
        "\n",
        "\n",
        "\n",
        "\n",
        "\n",
        "\n",
        "\n",
        "\n",
        "\n",
        "\n",
        "\n",
        "\n",
        "\n",
        "\n",
        "\n",
        "\n",
        "\n",
        "\n",
        "\n",
        "\n",
        "\n",
        "\n",
        "\n",
        "\n",
        "\n",
        "\n",
        "\n",
        "\n",
        "\n",
        "\n",
        "\n",
        "\n",
        "\n",
        "\n",
        "\n",
        "\n",
        "\n",
        "\n",
        "\n",
        "\n",
        "\n",
        "\n",
        "\n",
        "\n",
        "\n",
        "\n",
        "\n",
        "\n",
        "\n",
        "\n",
        "\n",
        "\n",
        "\n",
        "\n",
        "\n",
        "\n",
        "\n",
        "\n",
        "\n",
        "\n",
        "\n",
        "\n",
        "\n",
        "\n",
        "\n",
        "\n",
        "\n",
        "\n",
        "\n",
        "\n",
        "\n",
        "\n",
        "\n",
        "\n",
        "\n",
        "\n",
        "\n",
        "\n",
        "#**Mounting Drive and Creating directories for the Images**"
      ]
    },
    {
      "cell_type": "code",
      "execution_count": null,
      "metadata": {
        "colab": {
          "base_uri": "https://localhost:8080/"
        },
        "id": "aVkuPJk1JwEl",
        "outputId": "05f236db-c5ec-4bc6-85db-ebbddea06f7a"
      },
      "outputs": [
        {
          "name": "stdout",
          "output_type": "stream",
          "text": [
            "Drive already mounted at /content/drive; to attempt to forcibly remount, call drive.mount(\"/content/drive\", force_remount=True).\n"
          ]
        }
      ],
      "source": [
        "from google.colab import drive\n",
        "drive.mount('/content/drive')"
      ]
    },
    {
      "cell_type": "code",
      "execution_count": null,
      "metadata": {
        "colab": {
          "base_uri": "https://localhost:8080/"
        },
        "id": "pTDu0LZjJ0NO",
        "outputId": "253f94fa-a906-4780-eb11-254e987fd43c"
      },
      "outputs": [
        {
          "name": "stdout",
          "output_type": "stream",
          "text": [
            "Found 4000 images belonging to 4 classes.\n"
          ]
        }
      ],
      "source": [
        "data_dir = '/content/drive/MyDrive/DogEmotions/Images/training_set'  # Path to the training dataset\n",
        "\n",
        "train_datagen = ImageDataGenerator(\n",
        "    rescale=1./255,  # Normalize pixel values to [0, 1]\n",
        "    shear_range=0.2,  # Apply random shear transformation\n",
        "    zoom_range=0.2,  # Apply random zoom\n",
        "    horizontal_flip=True  # Randomly flip images horizontally\n",
        ")\n",
        "\n",
        "training_set = train_datagen.flow_from_directory(\n",
        "    data_dir,  # Directory containing class-wise image folders\n",
        "    target_size=(64, 64),  # Resize all images to 64x64 pixels\n",
        "    batch_size=32,  # Number of images per batch\n",
        "    class_mode='categorical'  # Use binary labels (0 or 1) for two classes\n",
        ")"
      ]
    },
    {
      "cell_type": "code",
      "execution_count": null,
      "metadata": {
        "colab": {
          "base_uri": "https://localhost:8080/"
        },
        "id": "1BPHVDMPJ72n",
        "outputId": "054ff007-b27d-4ed4-c7f4-2f9719b4d872"
      },
      "outputs": [
        {
          "name": "stdout",
          "output_type": "stream",
          "text": [
            "Found 800 images belonging to 4 classes.\n"
          ]
        }
      ],
      "source": [
        "test_dir = '/content/drive/MyDrive/DogEmotions/Images/test_set'  # Path to the test dataset\n",
        "\n",
        "test_datagen = ImageDataGenerator(rescale=1./255)  # Only normalize, no augmentation for test data\n",
        "\n",
        "test_set = test_datagen.flow_from_directory(\n",
        "    test_dir,  # Directory containing test images in class-wise folders\n",
        "    target_size=(64, 64),  # Resize all images to 64x64 pixels\n",
        "    batch_size=32,  # Number of images per batch\n",
        "    class_mode='categorical'  # Binary classification (0 or 1)\n",
        ")"
      ]
    },
    {
      "cell_type": "markdown",
      "metadata": {
        "id": "5nLU8zgDiyYO"
      },
      "source": [
        "#**Building the CNN Model**"
      ]
    },
    {
      "cell_type": "code",
      "execution_count": null,
      "metadata": {
        "id": "TGh86-Ha_q-2"
      },
      "outputs": [],
      "source": [
        "cnn = tf.keras.models.Sequential()"
      ]
    },
    {
      "cell_type": "code",
      "execution_count": null,
      "metadata": {
        "id": "3JLxcEisShdf"
      },
      "outputs": [],
      "source": [
        "cnn.add(tf.keras.layers.Input(shape=(64, 64, 3)))"
      ]
    },
    {
      "cell_type": "markdown",
      "metadata": {
        "id": "J9MX_mRqjEcF"
      },
      "source": [
        "###**Adding 1st convolution layer**"
      ]
    },
    {
      "cell_type": "code",
      "execution_count": null,
      "metadata": {
        "id": "K0UPjUoA4xJU"
      },
      "outputs": [],
      "source": [
        "#Step 1: Convolution\n",
        "cnn.add(tf.keras.layers.Conv2D(filters=32,kernel_size=3,activation='relu'))"
      ]
    },
    {
      "cell_type": "code",
      "execution_count": null,
      "metadata": {
        "id": "xy2nAvvE6FE2"
      },
      "outputs": [],
      "source": [
        "#Step 2: Pooling or Max Pooling\n",
        "cnn.add(tf.keras.layers.MaxPool2D(pool_size=2,strides=2))"
      ]
    },
    {
      "cell_type": "markdown",
      "metadata": {
        "id": "HaLMUV2fjN99"
      },
      "source": [
        "###**Adding Convolution Layer**"
      ]
    },
    {
      "cell_type": "code",
      "execution_count": null,
      "metadata": {
        "id": "qcx9HqpY66Ft"
      },
      "outputs": [],
      "source": [
        "#Adding another convulation layer\n",
        "cnn.add(tf.keras.layers.Conv2D(filters=64,kernel_size=3,activation='relu'))"
      ]
    },
    {
      "cell_type": "code",
      "execution_count": null,
      "metadata": {
        "id": "pZhxpkWV7FMA"
      },
      "outputs": [],
      "source": [
        "cnn.add(tf.keras.layers.MaxPool2D(pool_size=2,strides=2))"
      ]
    },
    {
      "cell_type": "markdown",
      "metadata": {
        "id": "9VogUIo7jVrD"
      },
      "source": [
        "###**Adding Convolution Layer**"
      ]
    },
    {
      "cell_type": "code",
      "execution_count": null,
      "metadata": {
        "id": "7gDLk_0xVCkQ"
      },
      "outputs": [],
      "source": [
        "#Adding another convulation layer\n",
        "cnn.add(tf.keras.layers.Conv2D(filters=128,kernel_size=3,activation='relu'))"
      ]
    },
    {
      "cell_type": "code",
      "execution_count": null,
      "metadata": {
        "id": "cwig2esyVE7T"
      },
      "outputs": [],
      "source": [
        "cnn.add(tf.keras.layers.MaxPool2D(pool_size=2,strides=2))"
      ]
    },
    {
      "cell_type": "markdown",
      "metadata": {
        "id": "pyAGD-Z9jdsb"
      },
      "source": [
        "###**Flattening, full connection and adding a output layer**"
      ]
    },
    {
      "cell_type": "code",
      "execution_count": null,
      "metadata": {
        "id": "R_RRwN_G7I99"
      },
      "outputs": [],
      "source": [
        "#Step 3: Flattening\n",
        "cnn.add(tf.keras.layers.Flatten())"
      ]
    },
    {
      "cell_type": "code",
      "execution_count": null,
      "metadata": {
        "id": "L-SoE-Qh7p_u"
      },
      "outputs": [],
      "source": [
        "#Step 4: Full connection\n",
        "cnn.add(tf.keras.layers.Dense(units=128, activation='relu'))"
      ]
    },
    {
      "cell_type": "code",
      "execution_count": null,
      "metadata": {
        "id": "aQkf3Mrg8Hst"
      },
      "outputs": [],
      "source": [
        "#Output-Layer\n",
        "cnn.add(tf.keras.layers.Dense(4, activation='softmax'))"
      ]
    },
    {
      "cell_type": "markdown",
      "metadata": {
        "id": "LTZSspPwju2Y"
      },
      "source": [
        "###**Compiling and fitting the value**"
      ]
    },
    {
      "cell_type": "code",
      "execution_count": null,
      "metadata": {
        "id": "9ZZRonnj8V_B"
      },
      "outputs": [],
      "source": [
        "#Compiling the cnn\n",
        "cnn.compile(\n",
        "    optimizer='adam',\n",
        "    loss='categorical_crossentropy',  # Changed loss function\n",
        "    metrics=['accuracy']\n",
        ")"
      ]
    },
    {
      "cell_type": "code",
      "execution_count": null,
      "metadata": {
        "colab": {
          "background_save": true,
          "base_uri": "https://localhost:8080/"
        },
        "id": "zVGZpla59TbK",
        "outputId": "0e07708c-714c-4622-f182-7a44207e092e"
      },
      "outputs": [
        {
          "name": "stdout",
          "output_type": "stream",
          "text": [
            "Epoch 1/25\n",
            "\u001b[1m125/125\u001b[0m \u001b[32m━━━━━━━━━━━━━━━━━━━━\u001b[0m\u001b[37m\u001b[0m \u001b[1m0s\u001b[0m 395ms/step - accuracy: 0.2670 - loss: 1.3896"
          ]
        },
        {
          "name": "stderr",
          "output_type": "stream",
          "text": [
            "/usr/local/lib/python3.11/dist-packages/keras/src/trainers/data_adapters/py_dataset_adapter.py:121: UserWarning: Your `PyDataset` class should call `super().__init__(**kwargs)` in its constructor. `**kwargs` can include `workers`, `use_multiprocessing`, `max_queue_size`. Do not pass these arguments to `fit()`, as they will be ignored.\n",
            "  self._warn_if_super_not_called()\n"
          ]
        },
        {
          "name": "stdout",
          "output_type": "stream",
          "text": [
            "\u001b[1m125/125\u001b[0m \u001b[32m━━━━━━━━━━━━━━━━━━━━\u001b[0m\u001b[37m\u001b[0m \u001b[1m57s\u001b[0m 435ms/step - accuracy: 0.2669 - loss: 1.3896 - val_accuracy: 0.2562 - val_loss: 1.3813\n",
            "Epoch 2/25\n",
            "\u001b[1m125/125\u001b[0m \u001b[32m━━━━━━━━━━━━━━━━━━━━\u001b[0m\u001b[37m\u001b[0m \u001b[1m52s\u001b[0m 414ms/step - accuracy: 0.2903 - loss: 1.3807 - val_accuracy: 0.2512 - val_loss: 1.3891\n",
            "Epoch 3/25\n",
            "\u001b[1m125/125\u001b[0m \u001b[32m━━━━━━━━━━━━━━━━━━━━\u001b[0m\u001b[37m\u001b[0m \u001b[1m52s\u001b[0m 414ms/step - accuracy: 0.2586 - loss: 1.3854 - val_accuracy: 0.2550 - val_loss: 1.3878\n",
            "Epoch 4/25\n",
            "\u001b[1m125/125\u001b[0m \u001b[32m━━━━━━━━━━━━━━━━━━━━\u001b[0m\u001b[37m\u001b[0m \u001b[1m83s\u001b[0m 424ms/step - accuracy: 0.2828 - loss: 1.3781 - val_accuracy: 0.2825 - val_loss: 1.3823\n",
            "Epoch 5/25\n",
            "\u001b[1m125/125\u001b[0m \u001b[32m━━━━━━━━━━━━━━━━━━━━\u001b[0m\u001b[37m\u001b[0m \u001b[1m51s\u001b[0m 411ms/step - accuracy: 0.3012 - loss: 1.3693 - val_accuracy: 0.2788 - val_loss: 1.3753\n",
            "Epoch 6/25\n",
            "\u001b[1m125/125\u001b[0m \u001b[32m━━━━━━━━━━━━━━━━━━━━\u001b[0m\u001b[37m\u001b[0m \u001b[1m52s\u001b[0m 415ms/step - accuracy: 0.2985 - loss: 1.3650 - val_accuracy: 0.2925 - val_loss: 1.3718\n",
            "Epoch 7/25\n",
            "\u001b[1m125/125\u001b[0m \u001b[32m━━━━━━━━━━━━━━━━━━━━\u001b[0m\u001b[37m\u001b[0m \u001b[1m81s\u001b[0m 408ms/step - accuracy: 0.3173 - loss: 1.3546 - val_accuracy: 0.3175 - val_loss: 1.3607\n",
            "Epoch 8/25\n",
            "\u001b[1m125/125\u001b[0m \u001b[32m━━━━━━━━━━━━━━━━━━━━\u001b[0m\u001b[37m\u001b[0m \u001b[1m82s\u001b[0m 413ms/step - accuracy: 0.3371 - loss: 1.3474 - val_accuracy: 0.3375 - val_loss: 1.3639\n",
            "Epoch 9/25\n",
            "\u001b[1m125/125\u001b[0m \u001b[32m━━━━━━━━━━━━━━━━━━━━\u001b[0m\u001b[37m\u001b[0m \u001b[1m52s\u001b[0m 417ms/step - accuracy: 0.3479 - loss: 1.3391 - val_accuracy: 0.2812 - val_loss: 1.3668\n",
            "Epoch 10/25\n",
            "\u001b[1m125/125\u001b[0m \u001b[32m━━━━━━━━━━━━━━━━━━━━\u001b[0m\u001b[37m\u001b[0m \u001b[1m52s\u001b[0m 413ms/step - accuracy: 0.3462 - loss: 1.3392 - val_accuracy: 0.3400 - val_loss: 1.3728\n",
            "Epoch 11/25\n",
            "\u001b[1m125/125\u001b[0m \u001b[32m━━━━━━━━━━━━━━━━━━━━\u001b[0m\u001b[37m\u001b[0m \u001b[1m53s\u001b[0m 420ms/step - accuracy: 0.3439 - loss: 1.3332 - val_accuracy: 0.3038 - val_loss: 1.3661\n",
            "Epoch 12/25\n",
            "\u001b[1m125/125\u001b[0m \u001b[32m━━━━━━━━━━━━━━━━━━━━\u001b[0m\u001b[37m\u001b[0m \u001b[1m52s\u001b[0m 412ms/step - accuracy: 0.3693 - loss: 1.3212 - val_accuracy: 0.3237 - val_loss: 1.3893\n",
            "Epoch 13/25\n",
            "\u001b[1m125/125\u001b[0m \u001b[32m━━━━━━━━━━━━━━━━━━━━\u001b[0m\u001b[37m\u001b[0m \u001b[1m51s\u001b[0m 410ms/step - accuracy: 0.3797 - loss: 1.3096 - val_accuracy: 0.3537 - val_loss: 1.3397\n",
            "Epoch 14/25\n",
            "\u001b[1m125/125\u001b[0m \u001b[32m━━━━━━━━━━━━━━━━━━━━\u001b[0m\u001b[37m\u001b[0m \u001b[1m82s\u001b[0m 411ms/step - accuracy: 0.3672 - loss: 1.3084 - val_accuracy: 0.3388 - val_loss: 1.3640\n",
            "Epoch 15/25\n",
            "\u001b[1m125/125\u001b[0m \u001b[32m━━━━━━━━━━━━━━━━━━━━\u001b[0m\u001b[37m\u001b[0m \u001b[1m52s\u001b[0m 418ms/step - accuracy: 0.3877 - loss: 1.2840 - val_accuracy: 0.3537 - val_loss: 1.3506\n",
            "Epoch 16/25\n",
            "\u001b[1m125/125\u001b[0m \u001b[32m━━━━━━━━━━━━━━━━━━━━\u001b[0m\u001b[37m\u001b[0m \u001b[1m52s\u001b[0m 414ms/step - accuracy: 0.3999 - loss: 1.2689 - val_accuracy: 0.3313 - val_loss: 1.3710\n",
            "Epoch 17/25\n",
            "\u001b[1m125/125\u001b[0m \u001b[32m━━━━━━━━━━━━━━━━━━━━\u001b[0m\u001b[37m\u001b[0m \u001b[1m51s\u001b[0m 408ms/step - accuracy: 0.4189 - loss: 1.2586 - val_accuracy: 0.3600 - val_loss: 1.3685\n",
            "Epoch 18/25\n",
            "\u001b[1m125/125\u001b[0m \u001b[32m━━━━━━━━━━━━━━━━━━━━\u001b[0m\u001b[37m\u001b[0m \u001b[1m51s\u001b[0m 404ms/step - accuracy: 0.4337 - loss: 1.2262 - val_accuracy: 0.3525 - val_loss: 1.3744\n",
            "Epoch 19/25\n",
            "\u001b[1m125/125\u001b[0m \u001b[32m━━━━━━━━━━━━━━━━━━━━\u001b[0m\u001b[37m\u001b[0m \u001b[1m53s\u001b[0m 422ms/step - accuracy: 0.4495 - loss: 1.2048 - val_accuracy: 0.3338 - val_loss: 1.4314\n",
            "Epoch 20/25\n",
            "\u001b[1m125/125\u001b[0m \u001b[32m━━━━━━━━━━━━━━━━━━━━\u001b[0m\u001b[37m\u001b[0m \u001b[1m50s\u001b[0m 403ms/step - accuracy: 0.4720 - loss: 1.1706 - val_accuracy: 0.3388 - val_loss: 1.4504\n",
            "Epoch 21/25\n",
            "\u001b[1m125/125\u001b[0m \u001b[32m━━━━━━━━━━━━━━━━━━━━\u001b[0m\u001b[37m\u001b[0m \u001b[1m52s\u001b[0m 413ms/step - accuracy: 0.4929 - loss: 1.1418 - val_accuracy: 0.3425 - val_loss: 1.4343\n",
            "Epoch 22/25\n",
            "\u001b[1m125/125\u001b[0m \u001b[32m━━━━━━━━━━━━━━━━━━━━\u001b[0m\u001b[37m\u001b[0m \u001b[1m51s\u001b[0m 411ms/step - accuracy: 0.5181 - loss: 1.0948 - val_accuracy: 0.3313 - val_loss: 1.4961\n",
            "Epoch 23/25\n",
            "\u001b[1m125/125\u001b[0m \u001b[32m━━━━━━━━━━━━━━━━━━━━\u001b[0m\u001b[37m\u001b[0m \u001b[1m52s\u001b[0m 417ms/step - accuracy: 0.5420 - loss: 1.0707 - val_accuracy: 0.3313 - val_loss: 1.5143\n",
            "Epoch 24/25\n",
            "\u001b[1m125/125\u001b[0m \u001b[32m━━━━━━━━━━━━━━━━━━━━\u001b[0m\u001b[37m\u001b[0m \u001b[1m52s\u001b[0m 417ms/step - accuracy: 0.5666 - loss: 1.0221 - val_accuracy: 0.3250 - val_loss: 1.5945\n",
            "Epoch 25/25\n",
            "\u001b[1m125/125\u001b[0m \u001b[32m━━━━━━━━━━━━━━━━━━━━\u001b[0m\u001b[37m\u001b[0m \u001b[1m83s\u001b[0m 423ms/step - accuracy: 0.5631 - loss: 1.0115 - val_accuracy: 0.3125 - val_loss: 1.6588\n"
          ]
        },
        {
          "data": {
            "text/plain": [
              "<keras.src.callbacks.history.History at 0x7e7555fc0450>"
            ]
          },
          "execution_count": 68,
          "metadata": {},
          "output_type": "execute_result"
        }
      ],
      "source": [
        "#Fitting the cnn model\n",
        "cnn.fit(\n",
        "    x = training_set,\n",
        "    validation_data = test_set,\n",
        "    epochs = 25,\n",
        ")"
      ]
    },
    {
      "cell_type": "markdown",
      "metadata": {
        "id": "M7Kj4Xxei7kX"
      },
      "source": [
        "#**Predicting the answer**"
      ]
    },
    {
      "cell_type": "code",
      "execution_count": null,
      "metadata": {
        "id": "zI30nGvzO-iK"
      },
      "outputs": [],
      "source": [
        "import numpy as np\n",
        "from keras.preprocessing import image\n",
        "\n",
        "# Load and preprocess the image\n",
        "test_image = image.load_img(\n",
        "    '/content/drive/MyDrive/Deep_Learning/DL/CNN/dataset/single_prediction/cat_or_dog_1.jpg',  # change this path\n",
        "    target_size=(64, 64)\n",
        ")\n",
        "test_image = image.img_to_array(test_image)\n",
        "test_image = np.expand_dims(test_image, axis=0)\n",
        "test_image = test_image / 255.0  # Match training normalization\n",
        "\n",
        "# Make prediction\n",
        "result = cnn.predict(test_image)\n",
        "\n",
        "# Your class names (should match folder names in training_set)\n",
        "class_names = ['angry', 'happy', 'relaxed', 'sad']\n",
        "\n",
        "# Get the predicted class\n",
        "predicted_class = class_names[np.argmax(result)]\n",
        "\n",
        "print(\"Predicted Emotion:\", predicted_class)"
      ]
    },
    {
      "cell_type": "code",
      "execution_count": null,
      "metadata": {
        "id": "ipc_dJ2wbTbR"
      },
      "outputs": [],
      "source": []
    }
  ],
  "metadata": {
    "colab": {
      "provenance": []
    },
    "kernelspec": {
      "display_name": "Python 3",
      "name": "python3"
    },
    "language_info": {
      "name": "python"
    }
  },
  "nbformat": 4,
  "nbformat_minor": 0
}